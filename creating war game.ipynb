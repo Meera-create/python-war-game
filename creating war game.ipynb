{
 "cells": [
  {
   "cell_type": "code",
   "execution_count": 1,
   "id": "d4e70450",
   "metadata": {},
   "outputs": [],
   "source": [
    "#card class\n",
    "#understand the suit\n",
    "#understand the card value\n",
    "#value should be assigne with card value\n",
    "\n"
   ]
  },
  {
   "cell_type": "code",
   "execution_count": 33,
   "id": "5e28000b",
   "metadata": {},
   "outputs": [],
   "source": [
    "import random"
   ]
  },
  {
   "cell_type": "code",
   "execution_count": 32,
   "id": "107677d6",
   "metadata": {},
   "outputs": [],
   "source": [
    "suits = ('Hearts', 'Diamonds', 'Spades', 'Clubs')\n",
    "ranks = ('Two', 'Three', 'Four', 'Five', 'Six', 'Seven', 'Eight', 'Nine', 'Ten', 'Jack', 'Queen', 'King', 'Ace')"
   ]
  },
  {
   "cell_type": "code",
   "execution_count": 21,
   "id": "a6ad7e8d",
   "metadata": {},
   "outputs": [],
   "source": [
    "#dictionary of values\n",
    "values = {'Two':2, 'Three':3, 'Four':4, 'Five':5, 'Six':6, 'Seven':7, 'Eight':8, \n",
    "            'Nine':9, 'Ten':10, 'Jack':11, 'Queen':12, 'King':13, 'Ace':14}"
   ]
  },
  {
   "cell_type": "code",
   "execution_count": 22,
   "id": "c06653b3",
   "metadata": {},
   "outputs": [],
   "source": [
    "class Card:\n",
    "    \n",
    "    def __init__(self,suit,rank):\n",
    "        self.rank=rank\n",
    "        self.suit=suit\n",
    "        self.value=values[rank]\n",
    "    \n",
    "    def __str__(self):\n",
    "        return self.rank + \" of \" + self.suit\n",
    "        \n",
    "    \n",
    "    "
   ]
  },
  {
   "cell_type": "code",
   "execution_count": 23,
   "id": "4a4853e1",
   "metadata": {},
   "outputs": [],
   "source": [
    "two_hearts = Card(\"Hearts\",\"Two\")"
   ]
  },
  {
   "cell_type": "code",
   "execution_count": 24,
   "id": "148f67d2",
   "metadata": {},
   "outputs": [
    {
     "name": "stdout",
     "output_type": "stream",
     "text": [
      "Two of Hearts\n"
     ]
    }
   ],
   "source": [
    "print(two_hearts)"
   ]
  },
  {
   "cell_type": "code",
   "execution_count": 25,
   "id": "8fdf8b05",
   "metadata": {},
   "outputs": [
    {
     "data": {
      "text/plain": [
       "'Hearts'"
      ]
     },
     "execution_count": 25,
     "metadata": {},
     "output_type": "execute_result"
    }
   ],
   "source": [
    "two_hearts.suit"
   ]
  },
  {
   "cell_type": "code",
   "execution_count": 27,
   "id": "b5322583",
   "metadata": {},
   "outputs": [
    {
     "data": {
      "text/plain": [
       "2"
      ]
     },
     "execution_count": 27,
     "metadata": {},
     "output_type": "execute_result"
    }
   ],
   "source": [
    "values[two_hearts.rank]"
   ]
  },
  {
   "cell_type": "code",
   "execution_count": 28,
   "id": "1801e626",
   "metadata": {},
   "outputs": [],
   "source": [
    "three_of_clubs=Card(\"Clubs\",\"Three\")"
   ]
  },
  {
   "cell_type": "code",
   "execution_count": 29,
   "id": "d6450a6f",
   "metadata": {},
   "outputs": [
    {
     "data": {
      "text/plain": [
       "3"
      ]
     },
     "execution_count": 29,
     "metadata": {},
     "output_type": "execute_result"
    }
   ],
   "source": [
    "three_of_clubs.value\n",
    "\n"
   ]
  },
  {
   "cell_type": "code",
   "execution_count": 30,
   "id": "6104a578",
   "metadata": {},
   "outputs": [
    {
     "data": {
      "text/plain": [
       "3"
      ]
     },
     "execution_count": 30,
     "metadata": {},
     "output_type": "execute_result"
    }
   ],
   "source": [
    "values[three_of_clubs.rank]"
   ]
  },
  {
   "cell_type": "code",
   "execution_count": 31,
   "id": "fa53ec82",
   "metadata": {},
   "outputs": [
    {
     "data": {
      "text/plain": [
       "False"
      ]
     },
     "execution_count": 31,
     "metadata": {},
     "output_type": "execute_result"
    }
   ],
   "source": [
    "two_hearts.value>three_of_clubs.value"
   ]
  },
  {
   "cell_type": "code",
   "execution_count": 34,
   "id": "236b82d9",
   "metadata": {},
   "outputs": [],
   "source": [
    "##DECK CLASS"
   ]
  },
  {
   "cell_type": "code",
   "execution_count": 61,
   "id": "9c9e447e",
   "metadata": {},
   "outputs": [],
   "source": [
    "class Deck():\n",
    "    def __init__(self):\n",
    "        self.full_deck=[]\n",
    "        for rank in ranks:\n",
    "            for suit in suits:\n",
    "                created_Card=Card(suit,rank)\n",
    "                self.full_deck.append(created_Card)\n",
    "    \n",
    "    def shuffle_deck(self):\n",
    "        random.shuffle(self.full_deck)\n",
    "        \n",
    "    def remove_one(self):\n",
    "        return self.full_deck.pop()\n",
    "    "
   ]
  },
  {
   "cell_type": "code",
   "execution_count": 71,
   "id": "79fc3b5e",
   "metadata": {},
   "outputs": [],
   "source": [
    "new_deck=Deck()"
   ]
  },
  {
   "cell_type": "code",
   "execution_count": 72,
   "id": "893897bf",
   "metadata": {},
   "outputs": [
    {
     "data": {
      "text/plain": [
       "52"
      ]
     },
     "execution_count": 72,
     "metadata": {},
     "output_type": "execute_result"
    }
   ],
   "source": [
    "len(new_deck.full_deck)"
   ]
  },
  {
   "cell_type": "code",
   "execution_count": 73,
   "id": "115adc37",
   "metadata": {},
   "outputs": [
    {
     "data": {
      "text/plain": [
       "<__main__.Card at 0x13548b5fcd0>"
      ]
     },
     "execution_count": 73,
     "metadata": {},
     "output_type": "execute_result"
    }
   ],
   "source": [
    "new_deck.full_deck[2]"
   ]
  },
  {
   "cell_type": "code",
   "execution_count": 74,
   "id": "93178623",
   "metadata": {},
   "outputs": [
    {
     "name": "stdout",
     "output_type": "stream",
     "text": [
      "Two of Clubs\n"
     ]
    }
   ],
   "source": [
    "print(new_deck.full_deck[3])"
   ]
  },
  {
   "cell_type": "code",
   "execution_count": 75,
   "id": "cdf800a3",
   "metadata": {},
   "outputs": [],
   "source": [
    "new_deck.shuffle_deck()"
   ]
  },
  {
   "cell_type": "code",
   "execution_count": 76,
   "id": "ef2b926d",
   "metadata": {},
   "outputs": [
    {
     "name": "stdout",
     "output_type": "stream",
     "text": [
      "Queen of Diamonds\n"
     ]
    }
   ],
   "source": [
    "print(new_deck.full_deck[2])"
   ]
  },
  {
   "cell_type": "code",
   "execution_count": 77,
   "id": "27598ffe",
   "metadata": {},
   "outputs": [],
   "source": [
    "pick_card=new_deck.remove_one()"
   ]
  },
  {
   "cell_type": "code",
   "execution_count": 78,
   "id": "b8900e73",
   "metadata": {},
   "outputs": [
    {
     "name": "stdout",
     "output_type": "stream",
     "text": [
      "Nine of Hearts\n"
     ]
    }
   ],
   "source": [
    "print(pick_card)"
   ]
  },
  {
   "cell_type": "code",
   "execution_count": 81,
   "id": "ea7b00aa",
   "metadata": {},
   "outputs": [
    {
     "name": "stdout",
     "output_type": "stream",
     "text": [
      "Nine of Diamonds\n",
      "Four of Clubs\n",
      "Queen of Diamonds\n",
      "King of Spades\n",
      "Three of Diamonds\n",
      "Two of Clubs\n",
      "Four of Diamonds\n",
      "Four of Spades\n",
      "Nine of Spades\n",
      "Jack of Hearts\n",
      "Ace of Spades\n",
      "Three of Clubs\n",
      "Jack of Spades\n",
      "Eight of Clubs\n",
      "Ace of Diamonds\n",
      "Nine of Clubs\n",
      "Six of Spades\n",
      "Eight of Hearts\n",
      "Seven of Hearts\n",
      "Five of Hearts\n",
      "Five of Diamonds\n",
      "Three of Spades\n",
      "Ten of Clubs\n",
      "Eight of Diamonds\n",
      "Eight of Spades\n",
      "Three of Hearts\n",
      "Ace of Hearts\n",
      "Seven of Clubs\n",
      "Seven of Diamonds\n",
      "Two of Spades\n",
      "Six of Clubs\n",
      "Queen of Spades\n",
      "King of Clubs\n",
      "Five of Spades\n",
      "Ace of Clubs\n",
      "Two of Diamonds\n",
      "King of Diamonds\n",
      "Six of Hearts\n",
      "Jack of Diamonds\n",
      "Two of Hearts\n",
      "Ten of Diamonds\n",
      "Seven of Spades\n",
      "Ten of Spades\n",
      "Queen of Clubs\n",
      "Six of Diamonds\n",
      "Jack of Clubs\n",
      "Ten of Hearts\n",
      "Four of Hearts\n",
      "King of Hearts\n",
      "Queen of Hearts\n",
      "Five of Clubs\n"
     ]
    }
   ],
   "source": [
    "for card_object in new_deck.full_deck:\n",
    "    print(card_object)"
   ]
  },
  {
   "cell_type": "code",
   "execution_count": 82,
   "id": "69e4f38e",
   "metadata": {},
   "outputs": [
    {
     "data": {
      "text/plain": [
       "51"
      ]
     },
     "execution_count": 82,
     "metadata": {},
     "output_type": "execute_result"
    }
   ],
   "source": [
    "len(new_deck.full_deck)"
   ]
  },
  {
   "cell_type": "code",
   "execution_count": 85,
   "id": "8140fa7a",
   "metadata": {},
   "outputs": [],
   "source": [
    "##PLAYER CLASS\n",
    "#HOLD players current list of cards, can remove or add cards to their list\n",
    "##add one or many cards to list\n",
    "##draw cards from top, and add cards to  bottom"
   ]
  },
  {
   "cell_type": "code",
   "execution_count": 111,
   "id": "1bc0710e",
   "metadata": {},
   "outputs": [],
   "source": [
    "class Player():\n",
    "    def __init__(self,name):\n",
    "        self.name=name\n",
    "        self.all_cards=[]\n",
    "        \n",
    "    def add_cards(self,new_card):\n",
    "        if type(new_card)==type([]):\n",
    "            self.all_cards.extend(new_card)\n",
    "        else:\n",
    "            self.all_cards.append(new_card)\n",
    "    \n",
    "    def remove_one(self):\n",
    "        return self.all_cards.pop(0)\n",
    "    #remove cards from beginning of list\n",
    "    \n",
    "    def __str__(self):\n",
    "        return f'Player {self.name} has {len(self.all_cards)} cards'"
   ]
  },
  {
   "cell_type": "code",
   "execution_count": 112,
   "id": "559df210",
   "metadata": {},
   "outputs": [],
   "source": [
    "Mia=Player(\"Mia\")"
   ]
  },
  {
   "cell_type": "code",
   "execution_count": 113,
   "id": "9d87394b",
   "metadata": {},
   "outputs": [
    {
     "data": {
      "text/plain": [
       "[]"
      ]
     },
     "execution_count": 113,
     "metadata": {},
     "output_type": "execute_result"
    }
   ],
   "source": [
    "Mia.all_cards"
   ]
  },
  {
   "cell_type": "code",
   "execution_count": 114,
   "id": "91772c94",
   "metadata": {},
   "outputs": [
    {
     "name": "stdout",
     "output_type": "stream",
     "text": [
      "Player Mia has 0 cards\n"
     ]
    }
   ],
   "source": [
    "print(Mia)"
   ]
  },
  {
   "cell_type": "code",
   "execution_count": 115,
   "id": "af42c256",
   "metadata": {},
   "outputs": [],
   "source": [
    "Mia.add_cards(pick_card)"
   ]
  },
  {
   "cell_type": "code",
   "execution_count": 116,
   "id": "d7a2c8b6",
   "metadata": {},
   "outputs": [
    {
     "name": "stdout",
     "output_type": "stream",
     "text": [
      "Player Mia has 1 cards\n"
     ]
    }
   ],
   "source": [
    "print(Mia)"
   ]
  },
  {
   "cell_type": "code",
   "execution_count": 117,
   "id": "03e26dbd",
   "metadata": {},
   "outputs": [
    {
     "data": {
      "text/plain": [
       "<__main__.Card at 0x13548b63510>"
      ]
     },
     "execution_count": 117,
     "metadata": {},
     "output_type": "execute_result"
    }
   ],
   "source": [
    "pick_card"
   ]
  },
  {
   "cell_type": "code",
   "execution_count": 118,
   "id": "eda90332",
   "metadata": {},
   "outputs": [
    {
     "name": "stdout",
     "output_type": "stream",
     "text": [
      "Nine of Hearts\n"
     ]
    }
   ],
   "source": [
    "print(pick_card)"
   ]
  },
  {
   "cell_type": "code",
   "execution_count": 122,
   "id": "c9c45d56",
   "metadata": {},
   "outputs": [
    {
     "name": "stdout",
     "output_type": "stream",
     "text": [
      "Nine of Hearts\n"
     ]
    }
   ],
   "source": [
    "print(Mia.all_cards[0])"
   ]
  },
  {
   "cell_type": "code",
   "execution_count": 123,
   "id": "a4c25f8b",
   "metadata": {},
   "outputs": [],
   "source": [
    "Mia.add_cards([pick_card,pick_card,pick_card])"
   ]
  },
  {
   "cell_type": "code",
   "execution_count": 124,
   "id": "e28b14fb",
   "metadata": {},
   "outputs": [
    {
     "name": "stdout",
     "output_type": "stream",
     "text": [
      "Player Mia has 4 cards\n"
     ]
    }
   ],
   "source": [
    "print(Mia)"
   ]
  },
  {
   "cell_type": "code",
   "execution_count": 126,
   "id": "11b50976",
   "metadata": {},
   "outputs": [
    {
     "name": "stdout",
     "output_type": "stream",
     "text": [
      "Nine of Hearts\n"
     ]
    }
   ],
   "source": [
    "print(Mia.all_cards[2])"
   ]
  },
  {
   "cell_type": "code",
   "execution_count": 130,
   "id": "df5fc840",
   "metadata": {},
   "outputs": [
    {
     "data": {
      "text/plain": [
       "\"\\n\\nwhile True:\\n    \\n    playerOne= Player('player one')\\n    playerTwo = Player('player two')\\n    #create deck\\n    new_deck = Deck()\\n    new_deck.shuffle_deck()\\n    for each_card in new_deck:\\n        if new_deck.index(each_card)%2==0:\\n            playerOne.add_cards(each_card)\\n        else:\\n            playerTwo.add_cards(each_card)\\n    \\n    if len(playerOne.all_cards)>0 or len(playerTwo.all_cards)>0:\\n        game_on=True\\n    else:\\n        game_on=False\\n        \\n    while game_on:\\n        \\n        war_on=False\\n        card1=playerOne.remove_one\\n        card2=playerTwo.remove_one\\n        \\n        \\n        if card1.value>card2.value:\\n            playerOne.add_cards([card1,card2])\\n        if card2.value>card1.value:\\n            playerTwo.add_cards([card1,card2])\\n        if card2.value==card1.value:\\n            war_on=True\\n            while war_on:\\n        \\n                player_one_stash = []\\n                player_one_stash.append(playerOne.remove_one)\\n                player_one_stash.append(playerOne.remove_one)\\n                player_one_stash.append(playerOne.remove_one)\\n                \\n                player_two_stash=[]\\n                player_two_stash.append(playerTwo.remove_one)\\n                player_two_stash.append(playerTwo.remove_one)\\n                player_two_stash.append(playerTwo.remove_one\\n                \\n                continue\\n        \\n\""
      ]
     },
     "execution_count": 130,
     "metadata": {},
     "output_type": "execute_result"
    }
   ],
   "source": [
    "\n",
    "\n",
    "while True:\n",
    "    \n",
    "    playerOne= Player('player one')\n",
    "    playerTwo = Player('player two')\n",
    "    #create deck\n",
    "    new_deck = Deck()\n",
    "    new_deck.shuffle_deck()\n",
    "    for each_card in new_deck:\n",
    "        if new_deck.index(each_card)%2==0:\n",
    "            playerOne.add_cards(each_card)\n",
    "        else:\n",
    "            playerTwo.add_cards(each_card)\n",
    "    \n",
    "    if len(playerOne.all_cards)>0 or len(playerTwo.all_cards)>0:\n",
    "        game_on=True\n",
    "    else:\n",
    "        game_on=False\n",
    "        \n",
    "    while game_on:\n",
    "        \n",
    "        war_on=False\n",
    "        card1=playerOne.remove_one\n",
    "        card2=playerTwo.remove_one\n",
    "        \n",
    "        \n",
    "        if card1.value>card2.value:\n",
    "            playerOne.add_cards([card1,card2])\n",
    "        if card2.value>card1.value:\n",
    "            playerTwo.add_cards([card1,card2])\n",
    "        if card2.value==card1.value:\n",
    "            war_on=True\n",
    "            while war_on:\n",
    "        \n",
    "                player_one_stash = []\n",
    "                player_one_stash.append(playerOne.remove_one)\n",
    "                player_one_stash.append(playerOne.remove_one)\n",
    "                player_one_stash.append(playerOne.remove_one)\n",
    "                \n",
    "                player_two_stash=[]\n",
    "                player_two_stash.append(playerTwo.remove_one)\n",
    "                player_two_stash.append(playerTwo.remove_one)\n",
    "                player_two_stash.append(playerTwo.remove_one\n",
    "                \n",
    "                continue\n",
    "        \n",
    "     \n",
    "        \n",
    "        \n",
    "        \n",
    "        \n",
    "       \n",
    "                \n",
    "                \n",
    "                \n",
    "                \n",
    "    \n",
    "        "
   ]
  },
  {
   "cell_type": "code",
   "execution_count": 134,
   "id": "359b83e7",
   "metadata": {},
   "outputs": [],
   "source": [
    "colours=[\"red\",\"yellow\",\"maroon\",\"lilac\",\"aqua\",\"beige\"]"
   ]
  },
  {
   "cell_type": "code",
   "execution_count": 135,
   "id": "63d6091a",
   "metadata": {},
   "outputs": [],
   "source": [
    "colour_palette=[]"
   ]
  },
  {
   "cell_type": "code",
   "execution_count": 136,
   "id": "3d74905e",
   "metadata": {},
   "outputs": [
    {
     "ename": "TypeError",
     "evalue": "unsupported operand type(s) for *: 'NoneType' and 'int'",
     "output_type": "error",
     "traceback": [
      "\u001b[1;31m---------------------------------------------------------------------------\u001b[0m",
      "\u001b[1;31mTypeError\u001b[0m                                 Traceback (most recent call last)",
      "Cell \u001b[1;32mIn[136], line 1\u001b[0m\n\u001b[1;32m----> 1\u001b[0m colour_palette\u001b[38;5;241m.\u001b[39mappend(colours[\u001b[38;5;241m-\u001b[39m\u001b[38;5;241m1\u001b[39m])\u001b[38;5;241m*\u001b[39m\u001b[38;5;241m3\u001b[39m\n",
      "\u001b[1;31mTypeError\u001b[0m: unsupported operand type(s) for *: 'NoneType' and 'int'"
     ]
    }
   ],
   "source": [
    "colour_palette.append(colours[-1])"
   ]
  },
  {
   "cell_type": "code",
   "execution_count": null,
   "id": "a7f51a8a",
   "metadata": {},
   "outputs": [],
   "source": []
  }
 ],
 "metadata": {
  "kernelspec": {
   "display_name": "Python 3 (ipykernel)",
   "language": "python",
   "name": "python3"
  },
  "language_info": {
   "codemirror_mode": {
    "name": "ipython",
    "version": 3
   },
   "file_extension": ".py",
   "mimetype": "text/x-python",
   "name": "python",
   "nbconvert_exporter": "python",
   "pygments_lexer": "ipython3",
   "version": "3.11.7"
  }
 },
 "nbformat": 4,
 "nbformat_minor": 5
}
